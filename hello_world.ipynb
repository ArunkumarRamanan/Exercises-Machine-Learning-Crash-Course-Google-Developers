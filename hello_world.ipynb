{
  "nbformat": 4,
  "nbformat_minor": 0,
  "metadata": {
    "colab": {
      "name": "hello_world.ipynb",
      "version": "0.3.2",
      "provenance": [],
      "collapsed_sections": [
        "JndnmDMp66FL"
      ],
      "include_colab_link": true
    }
  },
  "cells": [
    {
      "cell_type": "markdown",
      "metadata": {
        "id": "view-in-github",
        "colab_type": "text"
      },
      "source": [
        "[View in Colaboratory](https://colab.research.google.com/github/ArunkumarRamanan/Exercises-Machine-Learning-Crash-Course-Google-Developers/blob/master/hello_world.ipynb)"
      ]
    },
    {
      "metadata": {
        "id": "JndnmDMp66FL",
        "colab_type": "text"
      },
      "cell_type": "markdown",
      "source": [
        "#### Copyright 2017 Google LLC."
      ]
    },
    {
      "metadata": {
        "id": "hMqWDc_m6rUC",
        "colab_type": "code",
        "colab": {}
      },
      "cell_type": "code",
      "source": [
        "# Licensed under the Apache License, Version 2.0 (the \"License\");\n",
        "# you may not use this file except in compliance with the License.\n",
        "# You may obtain a copy of the License at\n",
        "#\n",
        "# https://www.apache.org/licenses/LICENSE-2.0\n",
        "#\n",
        "# Unless required by applicable law or agreed to in writing, software\n",
        "# distributed under the License is distributed on an \"AS IS\" BASIS,\n",
        "# WITHOUT WARRANTIES OR CONDITIONS OF ANY KIND, either express or implied.\n",
        "# See the License for the specific language governing permissions and\n",
        "# limitations under the License."
      ],
      "execution_count": 0,
      "outputs": []
    },
    {
      "metadata": {
        "id": "cH-YtyZs7Gcg",
        "colab_type": "text"
      },
      "cell_type": "markdown",
      "source": [
        "# Prework: Hello World"
      ]
    },
    {
      "metadata": {
        "id": "r0QBC2kTixPn",
        "colab_type": "text"
      },
      "cell_type": "markdown",
      "source": [
        "**Learning Objective:** Run a TensorFlow program in the browser."
      ]
    },
    {
      "metadata": {
        "id": "33fL46pgixPo",
        "colab_type": "text"
      },
      "cell_type": "markdown",
      "source": [
        "Here is a \"Hello World\" TensorFlow program:"
      ]
    },
    {
      "metadata": {
        "id": "bRuPN7qo7ICp",
        "colab_type": "code",
        "colab": {}
      },
      "cell_type": "code",
      "source": [
        "import tensorflow as tf\n",
        "\n",
        "c = tf.constant('Hello, world!')\n",
        "\n",
        "with tf.Session() as sess:\n",
        "\n",
        "    print sess.run(c)"
      ],
      "execution_count": 0,
      "outputs": []
    },
    {
      "metadata": {
        "id": "Bl1nAshab6m5",
        "colab_type": "text"
      },
      "cell_type": "markdown",
      "source": [
        "## To Run This Program\n",
        "\n",
        "  1. Click anywhere in the code block (for example, on the word `import`).\n",
        "\n",
        "  2. Click the right-facing-triangle icon in the upper-left corner of the code block, or hit ⌘/Ctrl-Enter.\n",
        "\n",
        "     The program will take a few seconds to run. If all goes well, the program will write the phrase `Hello, world!` just below the code block\n",
        "\n",
        "This entire program consists of a single code block. However, most exercises consist of multiple code blocks, in which case you should **run the code blocks individually in sequence, from top to bottom.** \n",
        "\n",
        "Running the code blocks out of sequence typically causes errors."
      ]
    },
    {
      "metadata": {
        "id": "UpzZ0Gv-uKf_",
        "colab_type": "text"
      },
      "cell_type": "markdown",
      "source": [
        "## Useful Keyboard Shortcuts\n",
        "\n",
        "* **⌘/Ctrl+m,b:** creates an empty code cell below the cell that's currently selected\n",
        "* **⌘/Ctrl+m,i:** interrupts a running cell\n",
        "* **⌘/Ctrl+m,h:** shows a list of all keyboard shortcuts\n",
        "* For documentation on any TensorFlow API method, place the cursor right after its opening parenthesis and hit **Tab**:\n",
        "\n",
        "![pop-up documentation for TensorFlow tf.constant method](https://storage.googleapis.com/mledu-images/tf_constant_pop_up_doc.png)"
      ]
    }
  ]
}